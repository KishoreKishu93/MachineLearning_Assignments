{
 "cells": [
  {
   "cell_type": "code",
   "execution_count": 1,
   "id": "6eb6ec2f",
   "metadata": {},
   "outputs": [],
   "source": [
    "import numpy as np\n",
    "import pandas as pd\n",
    "import matplotlib.pyplot as plt # visualization\n",
    "import seaborn as sns # visualization"
   ]
  },
  {
   "cell_type": "code",
   "execution_count": 2,
   "id": "89818957",
   "metadata": {},
   "outputs": [],
   "source": [
    "company_data = pd.read_csv(r\"E:\\DS_ML_PYTHON\\DS_ML\\Module4_Machine_Learning\\Supervised_ML\\Day14_Linear_regression\\Coding_understanding\\Input_files\\1000_Companies.csv\")"
   ]
  },
  {
   "cell_type": "code",
   "execution_count": 3,
   "id": "24e3a225",
   "metadata": {},
   "outputs": [
    {
     "data": {
      "text/html": [
       "<div>\n",
       "<style scoped>\n",
       "    .dataframe tbody tr th:only-of-type {\n",
       "        vertical-align: middle;\n",
       "    }\n",
       "\n",
       "    .dataframe tbody tr th {\n",
       "        vertical-align: top;\n",
       "    }\n",
       "\n",
       "    .dataframe thead th {\n",
       "        text-align: right;\n",
       "    }\n",
       "</style>\n",
       "<table border=\"1\" class=\"dataframe\">\n",
       "  <thead>\n",
       "    <tr style=\"text-align: right;\">\n",
       "      <th></th>\n",
       "      <th>R&amp;D Spend</th>\n",
       "      <th>Administration</th>\n",
       "      <th>Marketing Spend</th>\n",
       "      <th>State</th>\n",
       "      <th>Profit</th>\n",
       "    </tr>\n",
       "  </thead>\n",
       "  <tbody>\n",
       "    <tr>\n",
       "      <th>0</th>\n",
       "      <td>165349.20</td>\n",
       "      <td>136897.80</td>\n",
       "      <td>471784.10</td>\n",
       "      <td>New York</td>\n",
       "      <td>192261.83</td>\n",
       "    </tr>\n",
       "    <tr>\n",
       "      <th>1</th>\n",
       "      <td>162597.70</td>\n",
       "      <td>151377.59</td>\n",
       "      <td>443898.53</td>\n",
       "      <td>California</td>\n",
       "      <td>191792.06</td>\n",
       "    </tr>\n",
       "    <tr>\n",
       "      <th>2</th>\n",
       "      <td>153441.51</td>\n",
       "      <td>101145.55</td>\n",
       "      <td>407934.54</td>\n",
       "      <td>Florida</td>\n",
       "      <td>191050.39</td>\n",
       "    </tr>\n",
       "    <tr>\n",
       "      <th>3</th>\n",
       "      <td>144372.41</td>\n",
       "      <td>118671.85</td>\n",
       "      <td>383199.62</td>\n",
       "      <td>New York</td>\n",
       "      <td>182901.99</td>\n",
       "    </tr>\n",
       "    <tr>\n",
       "      <th>4</th>\n",
       "      <td>142107.34</td>\n",
       "      <td>91391.77</td>\n",
       "      <td>366168.42</td>\n",
       "      <td>Florida</td>\n",
       "      <td>166187.94</td>\n",
       "    </tr>\n",
       "  </tbody>\n",
       "</table>\n",
       "</div>"
      ],
      "text/plain": [
       "   R&D Spend  Administration  Marketing Spend       State     Profit\n",
       "0  165349.20       136897.80        471784.10    New York  192261.83\n",
       "1  162597.70       151377.59        443898.53  California  191792.06\n",
       "2  153441.51       101145.55        407934.54     Florida  191050.39\n",
       "3  144372.41       118671.85        383199.62    New York  182901.99\n",
       "4  142107.34        91391.77        366168.42     Florida  166187.94"
      ]
     },
     "execution_count": 3,
     "metadata": {},
     "output_type": "execute_result"
    }
   ],
   "source": [
    "company_data.head()"
   ]
  },
  {
   "cell_type": "code",
   "execution_count": 4,
   "id": "c6f255e9",
   "metadata": {},
   "outputs": [
    {
     "data": {
      "text/plain": [
       "1000"
      ]
     },
     "execution_count": 4,
     "metadata": {},
     "output_type": "execute_result"
    }
   ],
   "source": [
    "#Check number of rows\n",
    "len(company_data)\n",
    "#len(company_data.columns) #Count Columns"
   ]
  },
  {
   "cell_type": "code",
   "execution_count": 5,
   "id": "a8627111",
   "metadata": {},
   "outputs": [
    {
     "data": {
      "text/plain": [
       "R&D Spend          0\n",
       "Administration     0\n",
       "Marketing Spend    0\n",
       "State              0\n",
       "Profit             0\n",
       "dtype: int64"
      ]
     },
     "execution_count": 5,
     "metadata": {},
     "output_type": "execute_result"
    }
   ],
   "source": [
    "#Check for NA's if exist #Missing Values Check\n",
    "company_data.isna().sum()"
   ]
  },
  {
   "cell_type": "code",
   "execution_count": 6,
   "id": "a2c03fe2",
   "metadata": {},
   "outputs": [
    {
     "data": {
      "text/plain": [
       "R&D Spend          float64\n",
       "Administration     float64\n",
       "Marketing Spend    float64\n",
       "State               object\n",
       "Profit             float64\n",
       "dtype: object"
      ]
     },
     "execution_count": 6,
     "metadata": {},
     "output_type": "execute_result"
    }
   ],
   "source": [
    "#Check for Datatypes of each column\n",
    "company_data.dtypes"
   ]
  },
  {
   "cell_type": "code",
   "execution_count": 7,
   "id": "8500fb5c",
   "metadata": {},
   "outputs": [],
   "source": [
    "#Convert string catogorical data into numbers\n",
    "company_data['State'].unique()\n",
    "company_data['State'] = company_data['State'].astype('category')\n",
    "company_data['State'] = company_data['State'].cat.codes"
   ]
  },
  {
   "cell_type": "code",
   "execution_count": 8,
   "id": "103b0eec",
   "metadata": {
    "scrolled": false
   },
   "outputs": [
    {
     "data": {
      "text/plain": [
       "R&D Spend          float64\n",
       "Administration     float64\n",
       "Marketing Spend    float64\n",
       "State                 int8\n",
       "Profit             float64\n",
       "dtype: object"
      ]
     },
     "execution_count": 8,
     "metadata": {},
     "output_type": "execute_result"
    }
   ],
   "source": [
    "company_data.dtypes"
   ]
  },
  {
   "cell_type": "code",
   "execution_count": 9,
   "id": "ad36dd39",
   "metadata": {},
   "outputs": [
    {
     "data": {
      "text/plain": [
       "<matplotlib.collections.PathCollection at 0x2646f8cc3a0>"
      ]
     },
     "execution_count": 9,
     "metadata": {},
     "output_type": "execute_result"
    },
    {
     "data": {
      "image/png": "[encoded data removed]",
      "text/plain": [
       "<Figure size 432x288 with 1 Axes>"
      ]
     },
     "metadata": {
      "needs_background": "light"
     },
     "output_type": "display_data"
    }
   ],
   "source": [
    "plt.scatter(company_data['State'], company_data['Profit'])"
   ]
  },
  {
   "cell_type": "code",
   "execution_count": 10,
   "id": "ad233cb1",
   "metadata": {},
   "outputs": [
    {
     "data": {
      "text/plain": [
       "<seaborn.axisgrid.PairGrid at 0x2646f8ccd00>"
      ]
     },
     "execution_count": 10,
     "metadata": {},
     "output_type": "execute_result"
    },
    {
     "data": {
      "image/png": "[encoded data removed]",
      "text/plain": [
       "<Figure size 540x180 with 3 Axes>"
      ]
     },
     "metadata": {
      "needs_background": "light"
     },
     "output_type": "display_data"
    }
   ],
   "source": [
    "#Check the linear relationship between IV's and DV\n",
    "\n",
    "sns.pairplot(company_data, x_vars=['R&D Spend','Administration','Marketing Spend'],y_vars=['Profit'])"
   ]
  },
  {
   "cell_type": "code",
   "execution_count": 11,
   "id": "6a1d3cb2",
   "metadata": {
    "scrolled": true
   },
   "outputs": [
    {
     "data": {
      "text/html": [
       "<div>\n",
       "<style scoped>\n",
       "    .dataframe tbody tr th:only-of-type {\n",
       "        vertical-align: middle;\n",
       "    }\n",
       "\n",
       "    .dataframe tbody tr th {\n",
       "        vertical-align: top;\n",
       "    }\n",
       "\n",
       "    .dataframe thead th {\n",
       "        text-align: right;\n",
       "    }\n",
       "</style>\n",
       "<table border=\"1\" class=\"dataframe\">\n",
       "  <thead>\n",
       "    <tr style=\"text-align: right;\">\n",
       "      <th></th>\n",
       "      <th>R&amp;D Spend</th>\n",
       "      <th>Administration</th>\n",
       "      <th>Marketing Spend</th>\n",
       "    </tr>\n",
       "  </thead>\n",
       "  <tbody>\n",
       "    <tr>\n",
       "      <th>R&amp;D Spend</th>\n",
       "      <td>1.000000</td>\n",
       "      <td>0.582434</td>\n",
       "      <td>0.978407</td>\n",
       "    </tr>\n",
       "    <tr>\n",
       "      <th>Administration</th>\n",
       "      <td>0.582434</td>\n",
       "      <td>1.000000</td>\n",
       "      <td>0.520465</td>\n",
       "    </tr>\n",
       "    <tr>\n",
       "      <th>Marketing Spend</th>\n",
       "      <td>0.978407</td>\n",
       "      <td>0.520465</td>\n",
       "      <td>1.000000</td>\n",
       "    </tr>\n",
       "  </tbody>\n",
       "</table>\n",
       "</div>"
      ],
      "text/plain": [
       "                 R&D Spend  Administration  Marketing Spend\n",
       "R&D Spend         1.000000        0.582434         0.978407\n",
       "Administration    0.582434        1.000000         0.520465\n",
       "Marketing Spend   0.978407        0.520465         1.000000"
      ]
     },
     "execution_count": 11,
     "metadata": {},
     "output_type": "execute_result"
    }
   ],
   "source": [
    "#Check Multi-collinearity\n",
    "company_data.iloc[:,:-2].corr()"
   ]
  },
  {
   "cell_type": "code",
   "execution_count": 12,
   "id": "398a522a",
   "metadata": {},
   "outputs": [],
   "source": [
    "#Split the data into IV's and DV\n",
    "#X = company_data.drop(['Profit','Marketing Spend'], axis=1) #IV's\n",
    "X = company_data.drop('Profit', axis=1) #IV's\n",
    "y= company_data['Profit']               #DV"
   ]
  },
  {
   "cell_type": "code",
   "execution_count": 13,
   "id": "6e208a93",
   "metadata": {},
   "outputs": [
    {
     "data": {
      "text/html": [
       "<div>\n",
       "<style scoped>\n",
       "    .dataframe tbody tr th:only-of-type {\n",
       "        vertical-align: middle;\n",
       "    }\n",
       "\n",
       "    .dataframe tbody tr th {\n",
       "        vertical-align: top;\n",
       "    }\n",
       "\n",
       "    .dataframe thead th {\n",
       "        text-align: right;\n",
       "    }\n",
       "</style>\n",
       "<table border=\"1\" class=\"dataframe\">\n",
       "  <thead>\n",
       "    <tr style=\"text-align: right;\">\n",
       "      <th></th>\n",
       "      <th>R&amp;D Spend</th>\n",
       "      <th>Administration</th>\n",
       "      <th>Marketing Spend</th>\n",
       "      <th>State</th>\n",
       "    </tr>\n",
       "  </thead>\n",
       "  <tbody>\n",
       "    <tr>\n",
       "      <th>0</th>\n",
       "      <td>165349.2</td>\n",
       "      <td>136897.80</td>\n",
       "      <td>471784.10</td>\n",
       "      <td>2</td>\n",
       "    </tr>\n",
       "    <tr>\n",
       "      <th>1</th>\n",
       "      <td>162597.7</td>\n",
       "      <td>151377.59</td>\n",
       "      <td>443898.53</td>\n",
       "      <td>0</td>\n",
       "    </tr>\n",
       "  </tbody>\n",
       "</table>\n",
       "</div>"
      ],
      "text/plain": [
       "   R&D Spend  Administration  Marketing Spend  State\n",
       "0   165349.2       136897.80        471784.10      2\n",
       "1   162597.7       151377.59        443898.53      0"
      ]
     },
     "execution_count": 13,
     "metadata": {},
     "output_type": "execute_result"
    }
   ],
   "source": [
    "X.head(2)"
   ]
  },
  {
   "cell_type": "code",
   "execution_count": 14,
   "id": "b55a26b4",
   "metadata": {},
   "outputs": [],
   "source": [
    "#splitting dataset into train and test\n",
    "from sklearn.model_selection import train_test_split #splitting the data\n",
    "X_Train,X_Test,y_train,y_test = train_test_split(X,y, test_size=0.20, random_state=333)"
   ]
  },
  {
   "cell_type": "code",
   "execution_count": 15,
   "id": "bef5ea95",
   "metadata": {},
   "outputs": [
    {
     "data": {
      "text/plain": [
       "(800, 200)"
      ]
     },
     "execution_count": 15,
     "metadata": {},
     "output_type": "execute_result"
    }
   ],
   "source": [
    "len(X_Train), len(X_Test)"
   ]
  },
  {
   "cell_type": "code",
   "execution_count": 16,
   "id": "2a1447f4",
   "metadata": {},
   "outputs": [],
   "source": [
    "#Calling the model\n",
    "from sklearn.linear_model import LinearRegression\n",
    "lin_reg = LinearRegression()\n",
    "lin_reg.fit(X_Train,y_train) # Training the model\n",
    "# lin_reg.fit(1 + 1, 2)\n",
    "# lin_reg.fit([R&D Spend,Administration,Marketing Spend,State], Profit)\n",
    "y_pred = lin_reg.predict(X_Test) # y_test predicted values values we will be getting here\n",
    "# y_pred = lin_reg.predict(2 + 2)\n",
    "# lin_reg.predict([R&D Spend,Administration,Marketing Spend,State])"
   ]
  },
  {
   "cell_type": "code",
   "execution_count": 17,
   "id": "96a8a823",
   "metadata": {
    "collapsed": true
   },
   "outputs": [
    {
     "data": {
      "text/plain": [
       "array([ 94439.88257542, 121524.76824548, 177309.87985942,  61265.7947198 ,\n",
       "        51561.53363371, 164313.40942084,  72681.65990469,  59107.49842136,\n",
       "       111673.65666526, 147542.10213991, 176893.01339455,  99282.53291085,\n",
       "        98689.85218118, 161979.82217697, 167581.22575776,  76426.67112608,\n",
       "       130652.12320881, 157963.67153161, 134626.6441307 ,  84442.85928001,\n",
       "       155223.63663854,  73868.14493682,  95338.43786233, 128244.49505782,\n",
       "       142978.94792307,  76640.66782094, 139454.64331584, 156845.61001412,\n",
       "        62403.15507031, 143450.1099548 ,  52120.00266398, 186136.19284579,\n",
       "        74480.04768299, 111324.95210871, 144910.31996684, 121124.27663823,\n",
       "       170364.95249874,  60726.88623865, 123636.52542365, 106212.54740718,\n",
       "        99616.58631711, 174752.8157678 , 117945.56782235, 103724.95335646,\n",
       "       109388.67066712,  72696.91130401, 101680.68091231, 125811.19657734,\n",
       "       174079.46102923,  72552.38465007, 185504.20623114,  95247.08332032,\n",
       "        57898.94421487,  89579.9955304 , 119970.54132135, 130426.47553786,\n",
       "        56880.77872109,  73844.01352251,  99518.93731606,  50234.04617512,\n",
       "        53300.71644463,  77246.79943181, 132690.2752475 , 165081.90452979,\n",
       "       100797.03849313, 105129.22091183,  97666.59250249, 158317.88562051,\n",
       "        67967.76150351, 116437.35681024, 152911.59525305, 143406.41799239,\n",
       "        91769.31783776, 130242.2283773 ,  57710.20238925,  63084.26636455,\n",
       "        92975.62502093, 172449.13739306, 149086.54921269, 155337.99902881,\n",
       "       161790.21849938,  67388.87007215, 186308.29821084, 175867.53843052,\n",
       "       135994.11453949,  52057.68882197, 175188.04239719, 117208.97902834,\n",
       "        94472.89389023, 127548.65568363, 147305.09748904, 139003.10593311,\n",
       "       116492.51423246,  58556.18570078, 185351.39981124,  90029.27317554,\n",
       "        92896.59790183, 102947.05491551, 122312.74697726, 103401.50355802,\n",
       "        99359.23619144, 179992.17177433,  95501.32456967, 183915.58281646,\n",
       "       149495.281645  ,  55548.38186536,  91496.97802683, 113879.9540759 ,\n",
       "       118820.73843734, 121784.18049559,  64237.13982946,  59499.37161994,\n",
       "       107633.37460558,  90833.36515524,  53129.21132692, 137373.31201104,\n",
       "       172409.2249429 , 101125.99782391, 159391.47024888, 161818.39734503,\n",
       "       116763.99218803,  73707.58195685, 183130.71285326, 102191.487364  ,\n",
       "       183139.59286487, 157527.05972985, 135518.90495855, 165995.44950196,\n",
       "       129579.47724657, 175281.12053203,  97519.48029261,  54851.15742959,\n",
       "       182359.1089791 , 108863.51814323,  94415.75116111, 157678.74269483,\n",
       "        79319.25072161, 138753.10973162,  55697.47938451, 175223.37755387,\n",
       "        78532.65705445, 140894.63991912,  61940.61144623, 184029.00653722,\n",
       "       143758.04663986, 170605.06591481, 185002.87992898,  72913.23184074,\n",
       "        90224.04785389, 141372.73816057, 107284.06979999, 177768.97629681,\n",
       "        89003.42794091,  56554.14323083, 104163.62728265, 151052.61733772,\n",
       "       186574.00492   , 156725.21477111, 168976.53648061, 104993.9128011 ,\n",
       "        75395.57807317, 147226.07036657,  67309.84295305, 152793.00053153,\n",
       "        59801.01384425, 172136.02327999, 118585.04939075, 128904.3219899 ,\n",
       "        66998.19725714, 117003.67892335,  89831.54014131,  16172.13674322,\n",
       "       177834.13718894, 184909.54008008, 120454.03077599, 128533.20972299,\n",
       "       110635.14558725,  80951.82770165, 182134.69335408, 120942.69112365,\n",
       "       131425.52771558, 145418.5408626 ,  67764.89173687, 140809.44777013,\n",
       "        94335.60047597,  56723.92475536, 171712.26211041, 108941.9785813 ,\n",
       "       169381.59895407, 135608.53579659, 123245.85260864,  63366.94817699,\n",
       "       177107.08701806, 165440.42788197,  66678.11794135, 104853.43380411,\n",
       "        94562.52472827, 132677.43523941,  51048.48015903,  56853.53854293])"
      ]
     },
     "execution_count": 17,
     "metadata": {},
     "output_type": "execute_result"
    }
   ],
   "source": [
    "y_pred"
   ]
  },
  {
   "cell_type": "code",
   "execution_count": 24,
   "id": "b94949a6",
   "metadata": {},
   "outputs": [
    {
     "data": {
      "text/html": [
       "<div>\n",
       "<style scoped>\n",
       "    .dataframe tbody tr th:only-of-type {\n",
       "        vertical-align: middle;\n",
       "    }\n",
       "\n",
       "    .dataframe tbody tr th {\n",
       "        vertical-align: top;\n",
       "    }\n",
       "\n",
       "    .dataframe thead th {\n",
       "        text-align: right;\n",
       "    }\n",
       "</style>\n",
       "<table border=\"1\" class=\"dataframe\">\n",
       "  <thead>\n",
       "    <tr style=\"text-align: right;\">\n",
       "      <th></th>\n",
       "      <th>R&amp;D Spend</th>\n",
       "      <th>Administration</th>\n",
       "      <th>Marketing Spend</th>\n",
       "      <th>State</th>\n",
       "      <th>Profit</th>\n",
       "    </tr>\n",
       "  </thead>\n",
       "  <tbody>\n",
       "    <tr>\n",
       "      <th>0</th>\n",
       "      <td>165349.20</td>\n",
       "      <td>136897.80</td>\n",
       "      <td>471784.10</td>\n",
       "      <td>2</td>\n",
       "      <td>192261.83</td>\n",
       "    </tr>\n",
       "    <tr>\n",
       "      <th>1</th>\n",
       "      <td>162597.70</td>\n",
       "      <td>151377.59</td>\n",
       "      <td>443898.53</td>\n",
       "      <td>0</td>\n",
       "      <td>191792.06</td>\n",
       "    </tr>\n",
       "    <tr>\n",
       "      <th>2</th>\n",
       "      <td>153441.51</td>\n",
       "      <td>101145.55</td>\n",
       "      <td>407934.54</td>\n",
       "      <td>1</td>\n",
       "      <td>191050.39</td>\n",
       "    </tr>\n",
       "    <tr>\n",
       "      <th>3</th>\n",
       "      <td>144372.41</td>\n",
       "      <td>118671.85</td>\n",
       "      <td>383199.62</td>\n",
       "      <td>2</td>\n",
       "      <td>182901.99</td>\n",
       "    </tr>\n",
       "    <tr>\n",
       "      <th>4</th>\n",
       "      <td>142107.34</td>\n",
       "      <td>91391.77</td>\n",
       "      <td>366168.42</td>\n",
       "      <td>1</td>\n",
       "      <td>166187.94</td>\n",
       "    </tr>\n",
       "  </tbody>\n",
       "</table>\n",
       "</div>"
      ],
      "text/plain": [
       "   R&D Spend  Administration  Marketing Spend  State     Profit\n",
       "0  165349.20       136897.80        471784.10      2  192261.83\n",
       "1  162597.70       151377.59        443898.53      0  191792.06\n",
       "2  153441.51       101145.55        407934.54      1  191050.39\n",
       "3  144372.41       118671.85        383199.62      2  182901.99\n",
       "4  142107.34        91391.77        366168.42      1  166187.94"
      ]
     },
     "execution_count": 24,
     "metadata": {},
     "output_type": "execute_result"
    }
   ],
   "source": [
    "company_data.head()"
   ]
  },
  {
   "cell_type": "code",
   "execution_count": 25,
   "id": "3b0e977c",
   "metadata": {},
   "outputs": [
    {
     "name": "stderr",
     "output_type": "stream",
     "text": [
      "C:\\Users\\Kishore kumar V\\pythonconda\\lib\\site-packages\\sklearn\\base.py:450: UserWarning: X does not have valid feature names, but LinearRegression was fitted with feature names\n",
      "  warnings.warn(\n"
     ]
    },
    {
     "data": {
      "text/plain": [
       "array([127536.10137948])"
      ]
     },
     "execution_count": 25,
     "metadata": {},
     "output_type": "execute_result"
    }
   ],
   "source": [
    "lin_reg.predict([[142107.34,91391.77,366168.42,1]])"
   ]
  },
  {
   "cell_type": "code",
   "execution_count": 18,
   "id": "a9d75568",
   "metadata": {},
   "outputs": [
    {
     "data": {
      "text/plain": [
       "0.9569767949675002"
      ]
     },
     "metadata": {},
     "output_type": "display_data"
    }
   ],
   "source": [
    "#evaluating the model\n",
    "#calculating the  R squared  # 0 - 1\n",
    "from sklearn.metrics import r2_score\n",
    "from sklearn.metrics import mean_absolute_error\n",
    "display(r2_score(y_test,y_pred))"
   ]
  },
  {
   "cell_type": "code",
   "execution_count": 19,
   "id": "559534e9",
   "metadata": {},
   "outputs": [],
   "source": [
    "def mean_absolute_percentage_error(y_test, y_pred): # MAPE\n",
    "#     y_true, y_pred = check_arrays(y_true, y_pred)\n",
    "    return np.mean(np.abs((y_test - y_pred) / y_test)) * 100"
   ]
  },
  {
   "cell_type": "code",
   "execution_count": 20,
   "id": "b24ee400",
   "metadata": {},
   "outputs": [
    {
     "data": {
      "text/plain": [
       "1.8268711045455905"
      ]
     },
     "execution_count": 20,
     "metadata": {},
     "output_type": "execute_result"
    }
   ],
   "source": [
    "mean_absolute_percentage_error(y_test, y_pred)"
   ]
  }
 ],
 "metadata": {
  "kernelspec": {
   "display_name": "Python 3 (ipykernel)",
   "language": "python",
   "name": "python3"
  },
  "language_info": {
   "codemirror_mode": {
    "name": "ipython",
    "version": 3
   },
   "file_extension": ".py",
   "mimetype": "text/x-python",
   "name": "python",
   "nbconvert_exporter": "python",
   "pygments_lexer": "ipython3",
   "version": "3.9.12"
  }
 },
 "nbformat": 4,
 "nbformat_minor": 5
}
